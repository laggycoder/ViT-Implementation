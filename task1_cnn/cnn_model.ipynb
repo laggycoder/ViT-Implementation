{
 "cells": [
  {
   "cell_type": "code",
   "execution_count": 1,
   "metadata": {
    "executionInfo": {
     "elapsed": 36468,
     "status": "ok",
     "timestamp": 1747161836966,
     "user": {
      "displayName": "Ishan Manindra Gupta ee24b109",
      "userId": "18072811226322746429"
     },
     "user_tz": -330
    },
    "id": "rsubhTkk6oyu"
   },
   "outputs": [],
   "source": [
    "import numpy as np\n",
    "import matplotlib.pyplot as plt\n",
    "import torch\n",
    "import torch.nn as nn\n",
    "import torch.nn.functional as F\n",
    "import torch.optim as optim\n",
    "import torchvision\n",
    "import torchvision.transforms as transforms"
   ]
  },
  {
   "cell_type": "code",
   "execution_count": 2,
   "metadata": {
    "colab": {
     "base_uri": "https://localhost:8080/"
    },
    "executionInfo": {
     "elapsed": 10,
     "status": "ok",
     "timestamp": 1747161848366,
     "user": {
      "displayName": "Ishan Manindra Gupta ee24b109",
      "userId": "18072811226322746429"
     },
     "user_tz": -330
    },
    "id": "ApqFjZAJ9T8k",
    "outputId": "3b42fbec-f8e5-4f3f-e242-fc1382a6792a"
   },
   "outputs": [
    {
     "name": "stdout",
     "output_type": "stream",
     "text": [
      "cpu\n"
     ]
    }
   ],
   "source": [
    "device = torch.device(\"cuda:0\" if torch.cuda.is_available() else \"cpu\")\n",
    "print(device)"
   ]
  },
  {
   "cell_type": "markdown",
   "metadata": {
    "id": "qvOPM8Un9pfD"
   },
   "source": [
    "We will do the following steps in order:\n",
    "\n",
    "1. Load and normalize the CIFAR10 training and test datasets using torchvision\n",
    "\n",
    "2. Define a Convolutional Neural Network\n",
    "\n",
    "3. Define a loss function\n",
    "\n",
    "4. Train the network on the training data\n",
    "\n",
    "5. Test the network on the test data"
   ]
  },
  {
   "cell_type": "code",
   "execution_count": 3,
   "metadata": {
    "colab": {
     "base_uri": "https://localhost:8080/"
    },
    "executionInfo": {
     "elapsed": 16462,
     "status": "ok",
     "timestamp": 1747162059896,
     "user": {
      "displayName": "Ishan Manindra Gupta ee24b109",
      "userId": "18072811226322746429"
     },
     "user_tz": -330
    },
    "id": "SmWjo7OJ-Iqx",
    "outputId": "4f2a212e-9ca8-4f57-8c7f-1ba377882171"
   },
   "outputs": [
    {
     "name": "stderr",
     "output_type": "stream",
     "text": [
      "100%|██████████| 170M/170M [00:10<00:00, 15.8MB/s]\n"
     ]
    }
   ],
   "source": [
    "transform = transforms.Compose([transforms.ToTensor(), transforms.Normalize((0.5, 0.5, 0.5), (0.5, 0.5, 0.5))])\n",
    "batch_size = 4\n",
    "trainset = torchvision.datasets.CIFAR10(root='./data', train=True, download=True, transform=transform)\n",
    "trainloader = torch.utils.data.DataLoader(trainset, batch_size=batch_size, shuffle=True, num_workers=2)\n",
    "testset = torchvision.datasets.CIFAR10(root='./data', train=False, download=True, transform=transform)\n",
    "testloader = torch.utils.data.DataLoader(testset, batch_size=batch_size, shuffle=False, num_workers=2)\n",
    "classes = ('plane', 'car', 'bird', 'cat', 'deer', 'dog', 'frog', 'horse', 'ship', 'truck')"
   ]
  },
  {
   "cell_type": "markdown",
   "metadata": {
    "id": "ajJ4eiul-ebI"
   },
   "source": [
    "Visualization of some of the training images"
   ]
  },
  {
   "cell_type": "code",
   "execution_count": 4,
   "metadata": {
    "colab": {
     "base_uri": "https://localhost:8080/",
     "height": 211
    },
    "executionInfo": {
     "elapsed": 455,
     "status": "ok",
     "timestamp": 1747162244871,
     "user": {
      "displayName": "Ishan Manindra Gupta ee24b109",
      "userId": "18072811226322746429"
     },
     "user_tz": -330
    },
    "id": "tYJKfIUr-XzX",
    "outputId": "2e6f779d-7ee4-4b0d-e5ae-b8b8339b30b1"
   },
   "outputs": [
    {
     "data": {
      "image/png": "[encoded data removed]",
      "text/plain": [
       "<Figure size 640x480 with 1 Axes>"
      ]
     },
     "metadata": {},
     "output_type": "display_data"
    },
    {
     "name": "stdout",
     "output_type": "stream",
     "text": [
      "horse horse frog  car  \n"
     ]
    }
   ],
   "source": [
    "def imshow(img):\n",
    "    img = img / 2 + 0.5     #unnormalizing\n",
    "    npimg = img.numpy()\n",
    "    plt.imshow(np.transpose(npimg, (1, 2, 0)))\n",
    "    plt.show()\n",
    "\n",
    "dataiter = iter(trainloader)\n",
    "images, labels = next(dataiter)\n",
    "\n",
    "#showing images along with their labels\n",
    "imshow(torchvision.utils.make_grid(images))\n",
    "print(' '.join(f'{classes[labels[j]]:5s}' for j in range(batch_size)))"
   ]
  },
  {
   "cell_type": "code",
   "execution_count": 7,
   "metadata": {
    "executionInfo": {
     "elapsed": 38,
     "status": "ok",
     "timestamp": 1747162613682,
     "user": {
      "displayName": "Ishan Manindra Gupta ee24b109",
      "userId": "18072811226322746429"
     },
     "user_tz": -330
    },
    "id": "fVg4O0YX_DoY"
   },
   "outputs": [],
   "source": [
    "class CIFAR10Net(nn.Module):\n",
    "  def __init__(self):\n",
    "\n",
    "    super().__init__()\n",
    "    self.conv1 = nn.Conv2d(3, 6, 5)\n",
    "    self.pool = nn.MaxPool2d(2, 2)\n",
    "    self.conv2 = nn.Conv2d(6, 16, 5)\n",
    "    self.fc1 = nn.Linear(16 * 5 * 5, 120)\n",
    "    self.fc2 = nn.Linear(120, 84)\n",
    "    self.fc3 = nn.Linear(84, 10)\n",
    "\n",
    "  def forward(self, x):\n",
    "    x = self.pool(F.relu(self.conv1(x)))\n",
    "    x = self.pool(F.relu(self.conv2(x)))\n",
    "    x = torch.flatten(x, 1)\n",
    "    x = F.relu(self.fc1(x))\n",
    "    x = F.relu(self.fc2(x))\n",
    "    x = self.fc3(x)\n",
    "    return x\n",
    "\n",
    "net = CIFAR10Net().to(device)"
   ]
  },
  {
   "cell_type": "code",
   "execution_count": 8,
   "metadata": {
    "executionInfo": {
     "elapsed": 28,
     "status": "ok",
     "timestamp": 1747162615042,
     "user": {
      "displayName": "Ishan Manindra Gupta ee24b109",
      "userId": "18072811226322746429"
     },
     "user_tz": -330
    },
    "id": "WfPCg2dL_o0P"
   },
   "outputs": [],
   "source": [
    "criterion = nn.CrossEntropyLoss()\n",
    "optimizer = optim.SGD(net.parameters(), lr=0.001, momentum=0.9)"
   ]
  },
  {
   "cell_type": "code",
   "execution_count": 9,
   "metadata": {
    "colab": {
     "base_uri": "https://localhost:8080/"
    },
    "executionInfo": {
     "elapsed": 1089815,
     "status": "ok",
     "timestamp": 1747163780512,
     "user": {
      "displayName": "Ishan Manindra Gupta ee24b109",
      "userId": "18072811226322746429"
     },
     "user_tz": -330
    },
    "id": "BMEIQTZh_xqm",
    "outputId": "94e7e66b-0210-45e5-cb8e-41374e914592"
   },
   "outputs": [
    {
     "name": "stdout",
     "output_type": "stream",
     "text": [
      "[1,  2000] loss: 2.207\n",
      "[1,  4000] loss: 1.866\n",
      "[1,  6000] loss: 1.685\n",
      "[1,  8000] loss: 1.599\n",
      "[1, 10000] loss: 1.537\n",
      "[1, 12000] loss: 1.478\n",
      "[2,  2000] loss: 1.411\n",
      "[2,  4000] loss: 1.388\n",
      "[2,  6000] loss: 1.337\n",
      "[2,  8000] loss: 1.340\n",
      "[2, 10000] loss: 1.329\n",
      "[2, 12000] loss: 1.288\n",
      "[3,  2000] loss: 1.222\n",
      "[3,  4000] loss: 1.217\n",
      "[3,  6000] loss: 1.241\n",
      "[3,  8000] loss: 1.203\n",
      "[3, 10000] loss: 1.199\n",
      "[3, 12000] loss: 1.183\n",
      "[4,  2000] loss: 1.114\n",
      "[4,  4000] loss: 1.118\n",
      "[4,  6000] loss: 1.124\n",
      "[4,  8000] loss: 1.122\n",
      "[4, 10000] loss: 1.118\n",
      "[4, 12000] loss: 1.138\n",
      "[5,  2000] loss: 1.018\n",
      "[5,  4000] loss: 1.039\n",
      "[5,  6000] loss: 1.052\n",
      "[5,  8000] loss: 1.074\n",
      "[5, 10000] loss: 1.050\n",
      "[5, 12000] loss: 1.045\n",
      "[6,  2000] loss: 0.952\n",
      "[6,  4000] loss: 0.990\n",
      "[6,  6000] loss: 1.009\n",
      "[6,  8000] loss: 0.978\n",
      "[6, 10000] loss: 0.988\n",
      "[6, 12000] loss: 1.043\n",
      "[7,  2000] loss: 0.932\n",
      "[7,  4000] loss: 0.923\n",
      "[7,  6000] loss: 0.932\n",
      "[7,  8000] loss: 0.943\n",
      "[7, 10000] loss: 0.969\n",
      "[7, 12000] loss: 0.973\n",
      "[8,  2000] loss: 0.860\n",
      "[8,  4000] loss: 0.898\n",
      "[8,  6000] loss: 0.900\n",
      "[8,  8000] loss: 0.933\n",
      "[8, 10000] loss: 0.915\n",
      "[8, 12000] loss: 0.926\n",
      "[9,  2000] loss: 0.819\n",
      "[9,  4000] loss: 0.845\n",
      "[9,  6000] loss: 0.883\n",
      "[9,  8000] loss: 0.869\n",
      "[9, 10000] loss: 0.909\n",
      "[9, 12000] loss: 0.904\n",
      "[10,  2000] loss: 0.797\n",
      "[10,  4000] loss: 0.815\n",
      "[10,  6000] loss: 0.840\n",
      "[10,  8000] loss: 0.843\n",
      "[10, 10000] loss: 0.871\n",
      "[10, 12000] loss: 0.851\n",
      "Finished Training\n"
     ]
    }
   ],
   "source": [
    "torch.manual_seed(42)\n",
    "epochs = 10\n",
    "for epoch in range(epochs):\n",
    "  running_loss = 0\n",
    "  for i, (inputs, labels) in enumerate(trainloader):\n",
    "    inputs = inputs.to(device)\n",
    "    labels = labels.to(device)\n",
    "    optimizer.zero_grad()\n",
    "    pred = net(inputs)\n",
    "    loss = criterion(pred, labels)\n",
    "    loss.backward()\n",
    "    optimizer.step()\n",
    "    running_loss += loss.item()\n",
    "    if i % 2000 == 1999:\n",
    "      print('[%d, %5d] loss: %.3f' % (epoch + 1, i + 1, running_loss / 2000))\n",
    "      running_loss = 0\n",
    "print('Finished Training')"
   ]
  },
  {
   "cell_type": "code",
   "execution_count": 10,
   "metadata": {
    "colab": {
     "base_uri": "https://localhost:8080/"
    },
    "executionInfo": {
     "elapsed": 15104,
     "status": "ok",
     "timestamp": 1747163795699,
     "user": {
      "displayName": "Ishan Manindra Gupta ee24b109",
      "userId": "18072811226322746429"
     },
     "user_tz": -330
    },
    "id": "hf5HlyrWB_Qz",
    "outputId": "1acb7437-feb1-419b-e709-94d44542b463"
   },
   "outputs": [
    {
     "name": "stdout",
     "output_type": "stream",
     "text": [
      "6174 correct predictions out of 10000\n",
      "Accuracy: 61.74 %\n"
     ]
    }
   ],
   "source": [
    "correct = 0\n",
    "with torch.no_grad():\n",
    "  for images, labels in testloader:\n",
    "    pred = net(images)\n",
    "    _, predicted = torch.max(pred.data, 1)\n",
    "    correct += (predicted == labels).sum().item()\n",
    "print(f'{correct} correct predictions out of 10000')\n",
    "print(f'Accuracy: {correct/100 :.2f} %')"
   ]
  },
  {
   "cell_type": "code",
   "execution_count": 11,
   "metadata": {
    "colab": {
     "base_uri": "https://localhost:8080/"
    },
    "executionInfo": {
     "elapsed": 14442,
     "status": "ok",
     "timestamp": 1747163810146,
     "user": {
      "displayName": "Ishan Manindra Gupta ee24b109",
      "userId": "18072811226322746429"
     },
     "user_tz": -330
    },
    "id": "hhle98UrCDHS",
    "outputId": "9a335e52-fcb0-454c-d3b9-c4c48394353c"
   },
   "outputs": [
    {
     "name": "stdout",
     "output_type": "stream",
     "text": [
      "Accuracy for class: plane is 57.40 %\n",
      "Accuracy for class: car   is 75.50 %\n",
      "Accuracy for class: bird  is 40.80 %\n",
      "Accuracy for class: cat   is 35.70 %\n",
      "Accuracy for class: deer  is 51.20 %\n",
      "Accuracy for class: dog   is 57.60 %\n",
      "Accuracy for class: frog  is 82.10 %\n",
      "Accuracy for class: horse is 66.20 %\n",
      "Accuracy for class: ship  is 77.90 %\n",
      "Accuracy for class: truck is 73.00 %\n"
     ]
    }
   ],
   "source": [
    "correct_pred = {classname: 0 for classname in classes}\n",
    "total_pred = {classname: 0 for classname in classes}\n",
    "with torch.no_grad():\n",
    "  for images, labels in testloader:\n",
    "    pred = net(images)\n",
    "    _, predictions = torch.max(pred, 1)\n",
    "    for label, prediction in zip(labels, predictions):\n",
    "      if label == prediction:\n",
    "        correct_pred[classes[label]] += 1\n",
    "      total_pred[classes[label]] += 1\n",
    "\n",
    "for classname in correct_pred:\n",
    "  print(f'Accuracy for class: {classname:5s} is {correct_pred[classname] / total_pred[classname] * 100:.2f} %')"
   ]
  },
  {
   "cell_type": "markdown",
   "metadata": {},
   "source": [
    "This is an implementation of a basic CNN.\n",
    "It can be made better by using more convolution layers to learn richer features, dropout layers to prevent overfitting, better optimizers and data augmentation to improve generalization. "
   ]
  }
 ],
 "metadata": {
  "colab": {
   "authorship_tag": "ABX9TyPqln6ScbZWnpnlVSYmqE8i",
   "provenance": []
  },
  "kernelspec": {
   "display_name": "Python 3",
   "name": "python3"
  },
  "language_info": {
   "name": "python"
  }
 },
 "nbformat": 4,
 "nbformat_minor": 0
}
